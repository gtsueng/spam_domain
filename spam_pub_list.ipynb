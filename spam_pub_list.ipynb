{
 "cells": [
  {
   "cell_type": "code",
   "execution_count": 1,
   "id": "69c11ffe",
   "metadata": {},
   "outputs": [],
   "source": [
    "import os\n",
    "from bs4 import BeautifulSoup\n",
    "from bs4 import SoupStrainer\n",
    "import requests\n",
    "\n",
    "script_path = os.getcwd()\n",
    "result_path = os.path.join(script_path,'results')"
   ]
  },
  {
   "cell_type": "code",
   "execution_count": 2,
   "id": "b9ca1604",
   "metadata": {},
   "outputs": [],
   "source": [
    "dolos_site = \"https://web.archive.org/web/20200808174908/https://www.professeur-alexandre-georges.info/dolos-list\"\n",
    "bealls_site = \"https://beallslist.net/\"\n",
    "bealls_conf = \"https://web.archive.org/web/20200515162250/https://libguides.caltech.edu/c.php?g=512665&p=3503029\""
   ]
  },
  {
   "cell_type": "code",
   "execution_count": 3,
   "id": "94bdee94",
   "metadata": {},
   "outputs": [],
   "source": [
    "def get_domains(include_list):\n",
    "    noheader = [x.replace(\"https://\",\"http://\").replace(\"http://\",\"\") for x in include_list]\n",
    "    no_www = [x.replace(\"www.\",\"\").strip(\"/\") for x in noheader]\n",
    "    domains_only = []\n",
    "    for eachlink in no_www:\n",
    "        tmplink = eachlink.split(\"/\")\n",
    "        domain = tmplink[0]\n",
    "        domains_only.append(domain)\n",
    "    return domains_only"
   ]
  },
  {
   "cell_type": "code",
   "execution_count": 4,
   "id": "d5749817",
   "metadata": {},
   "outputs": [],
   "source": [
    "def get_dolos_list(dolos_site):\n",
    "    r = requests.get(dolos_site)\n",
    "    doloslist = []\n",
    "    safelistkeys = [\"professeur-alexandre\",\"wikipedia\",\"elsevier\",\"dovepress\",\"beallslist\"]\n",
    "    for link in BeautifulSoup(r.text, 'html.parser', parse_only=SoupStrainer('a')):\n",
    "        if link.has_attr('href'):\n",
    "            doloslist.append(link['href'])\n",
    "\n",
    "    unarchiveit = [x.replace(\"https://web.archive.org/web/20200808174908/\",\"\") for x in doloslist]\n",
    "    excludelist = []\n",
    "    for eachkey in safelistkeys:\n",
    "        tmplist = [x for x in unarchiveit if eachkey in x]\n",
    "        excludelist.extend(tmplist)\n",
    "    includelist = [x for x in unarchiveit if x not in excludelist]\n",
    "    domains_only = get_domains(includelist)\n",
    "    actionable_domains = ['@'+x for x in domains_only]\n",
    "    return actionable_domains"
   ]
  },
  {
   "cell_type": "code",
   "execution_count": 5,
   "id": "c2fce99e",
   "metadata": {},
   "outputs": [],
   "source": [
    "def get_bealls_confs(bealls_conf):\n",
    "    confs = requests.get(bealls_conf)\n",
    "    first_conference = \"https://web.archive.org/web/20200515162250/https://www.acavent.com/\"\n",
    "    beallslist = []\n",
    "    for link in BeautifulSoup(confs.text, 'html.parser', parse_only=SoupStrainer('a')):\n",
    "        if link.has_attr('href'):\n",
    "            beallslist.append(link['href'])\n",
    "\n",
    "    first_conf = beallslist.index(first_conference)\n",
    "    conflist = beallslist[first_conf:]\n",
    "    unarchiveit = [x.replace(\"https://web.archive.org/web/20200515162250/\",\"\") for x in conflist]\n",
    "    confs_domains = get_domains(unarchiveit)\n",
    "    actionable_confs = ['@'+x for x in confs_domains]\n",
    "    return actionable_confs\n",
    "\n"
   ]
  },
  {
   "cell_type": "code",
   "execution_count": 6,
   "id": "d6b32750",
   "metadata": {},
   "outputs": [],
   "source": [
    "def export_list(site_name,a_list):\n",
    "    with open(os.path.join(result_path,f\"{site_name}_domains.txt\"),'w') as outwrite:\n",
    "        for eachdomain in a_list:\n",
    "            outwrite.write(eachdomain+\"\\n\")"
   ]
  },
  {
   "cell_type": "code",
   "execution_count": 7,
   "id": "8824cdd1",
   "metadata": {},
   "outputs": [],
   "source": [
    "dolos_dirtylist = get_dolos_list(dolos_site)\n",
    "dolos_domains = get_domains(dolos_dirtylist)\n",
    "export_list(\"dolos_list\",dolos_domains)"
   ]
  },
  {
   "cell_type": "code",
   "execution_count": 8,
   "id": "e7d6f507",
   "metadata": {},
   "outputs": [],
   "source": [
    "actionable_confs = get_bealls_confs(bealls_conf)\n",
    "export_list(\"bealls_conferences\",actionable_confs)\n"
   ]
  },
  {
   "cell_type": "code",
   "execution_count": null,
   "id": "89a2bc49",
   "metadata": {},
   "outputs": [],
   "source": []
  }
 ],
 "metadata": {
  "kernelspec": {
   "display_name": "Python 3 (ipykernel)",
   "language": "python",
   "name": "python3"
  },
  "language_info": {
   "codemirror_mode": {
    "name": "ipython",
    "version": 3
   },
   "file_extension": ".py",
   "mimetype": "text/x-python",
   "name": "python",
   "nbconvert_exporter": "python",
   "pygments_lexer": "ipython3",
   "version": "3.10.10"
  }
 },
 "nbformat": 4,
 "nbformat_minor": 5
}
